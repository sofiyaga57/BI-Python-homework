{
 "cells": [
  {
   "cell_type": "code",
   "execution_count": 2,
   "id": "83cfca59-e8d0-4e26-8cb8-fff3efaf1b26",
   "metadata": {},
   "outputs": [],
   "source": [
    "from HW13_OOP import (User, Booking, LabEquipment,\n",
    "                      GenCodeInterpreter,\n",
    "                      meet_the_dunders\n",
    ")"
   ]
  },
  {
   "cell_type": "markdown",
   "id": "bcc5b0a5-e554-488d-a1ee-52248ccf40b6",
   "metadata": {},
   "source": [
    "# 0. Ссылка на PR части II.\n",
    "\n",
    "Приложите ниже ссылку на PR HW 14 из вашего личного репозитория (см. README)"
   ]
  },
  {
   "cell_type": "markdown",
   "id": "0f6f6550-4889-4ab5-a792-ec35aff6c79c",
   "metadata": {},
   "source": []
  },
  {
   "cell_type": "code",
   "execution_count": null,
   "id": "20934345-d924-4eab-9df3-8119fa1769d9",
   "metadata": {},
   "outputs": [],
   "source": []
  },
  {
   "cell_type": "markdown",
   "id": "78e474fe-398e-45b2-a774-4a1175938687",
   "metadata": {},
   "source": [
    "# 1. Система бронирования оборудования\n",
    "\n",
    "Сопроводите написанную систему небольшим примером (2-3 бронирования, какое-нибудь успешное и неуспешное). "
   ]
  },
  {
   "cell_type": "code",
   "execution_count": null,
   "id": "0fcc5753-5f1b-4d03-a9ae-8ee11456bd01",
   "metadata": {},
   "outputs": [],
   "source": []
  },
  {
   "cell_type": "markdown",
   "id": "d5713c0c-56ab-4828-b933-97e384969578",
   "metadata": {},
   "source": [
    "# 2. Интерпретатор генетического кода\n",
    "\n",
    "Здесь вы можете продемонстрировать как работает ваш интерпретатор генетического кода. Не забудьте в последнем примере подобрать такой набор нуклеотидов чтобы напечаталась ваша фамилия."
   ]
  },
  {
   "cell_type": "code",
   "execution_count": null,
   "id": "e46decf5-9b47-45c8-a48e-d55c0cd69986",
   "metadata": {},
   "outputs": [],
   "source": [
    "interpreter = GenCodeInterpreter()\n",
    "interpreter.eval('ATGCN')"
   ]
  },
  {
   "cell_type": "code",
   "execution_count": null,
   "id": "26989e46-af35-499b-a152-20f3f7f89734",
   "metadata": {},
   "outputs": [],
   "source": [
    "interpreter = GenCodeInterpreter()\n",
    "code = 'G'*72 + 'N' + 'G'*33 + 'N' + 'C'*72 + 'N'\n",
    "interpreter.eval(code)"
   ]
  },
  {
   "cell_type": "code",
   "execution_count": null,
   "id": "ecf4280a-0fa3-46e8-88ba-519834a7f95d",
   "metadata": {},
   "outputs": [],
   "source": [
    "interpreter = GenCodeInterpreter()\n",
    "code = '...'\n",
    "interpreter.eval(code)"
   ]
  },
  {
   "cell_type": "markdown",
   "id": "4fc75494-33c3-48f5-b2b1-adeaeb2dee75",
   "metadata": {},
   "source": [
    "# 3. Meet the dunders\n",
    "\n",
    "Проверьте что функция не сломалась"
   ]
  },
  {
   "cell_type": "code",
   "execution_count": null,
   "id": "a594a672-7138-4301-a4df-d50cc000b032",
   "metadata": {},
   "outputs": [],
   "source": [
    "assert meet_the_dunders() == 42"
   ]
  },
  {
   "cell_type": "markdown",
   "id": "0b37b58a-dbc7-4dd8-a7aa-c2e0bb1d18ac",
   "metadata": {},
   "source": [
    "# 5. Biological sequences world\n",
    "\n",
    "Приведите пример:\n",
    "- 1 метод который работает с РНК\n",
    "- 1 метод который работает с белками\n",
    "- Какой тип данных возвращает метод `complement` который вызвали на последовательности ДНК"
   ]
  },
  {
   "cell_type": "code",
   "execution_count": null,
   "id": "767da1e6-76d7-4853-b274-deb21893ce22",
   "metadata": {},
   "outputs": [],
   "source": []
  }
 ],
 "metadata": {
  "kernelspec": {
   "display_name": "python_bi",
   "language": "python",
   "name": "python_bi"
  },
  "language_info": {
   "codemirror_mode": {
    "name": "ipython",
    "version": 3
   },
   "file_extension": ".py",
   "mimetype": "text/x-python",
   "name": "python",
   "nbconvert_exporter": "python",
   "pygments_lexer": "ipython3",
   "version": "3.12.1"
  }
 },
 "nbformat": 4,
 "nbformat_minor": 5
}
