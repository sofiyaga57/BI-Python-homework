{
 "cells": [
  {
   "cell_type": "markdown",
   "source": [
    "# 0. Ссылка на PR части II.\n",
    "\n",
    "Приложите ниже ссылку на PR HW 14 из вашего личного репозитория (см. README)"
   ],
   "metadata": {
    "collapsed": false
   },
   "id": "ea0f7f92befbc319"
  },
  {
   "cell_type": "markdown",
   "id": "0f6f6550-4889-4ab5-a792-ec35aff6c79c",
   "metadata": {},
   "source": []
  },
  {
   "cell_type": "markdown",
   "source": [
    "https://github.com/sofiyaga57/basic_bioinformatics_tools/pull/5"
   ],
   "metadata": {
    "collapsed": false
   },
   "id": "516d4f9433cb3943"
  },
  {
   "cell_type": "markdown",
   "id": "78e474fe-398e-45b2-a774-4a1175938687",
   "metadata": {},
   "source": [
    "# 1. Система бронирования оборудования\n",
    "\n",
    "Сопроводите написанную систему небольшим примером (2-3 бронирования, какое-нибудь успешное и неуспешное). "
   ]
  },
  {
   "cell_type": "code",
   "execution_count": 1,
   "id": "0fcc5753-5f1b-4d03-a9ae-8ee11456bd01",
   "metadata": {
    "ExecuteTime": {
     "end_time": "2024-02-25T11:55:41.409312Z",
     "start_time": "2024-02-25T11:55:41.279408Z"
    }
   },
   "outputs": [],
   "source": [
    "from HW14_OOP import *"
   ]
  },
  {
   "cell_type": "code",
   "outputs": [],
   "source": [
    "lab = LabEquipment([\"PCR Machine\", \"Centrifuge\"])\n",
    "user1 = User(\"Masha\")\n",
    "user2 = User(\"Sasha\")"
   ],
   "metadata": {
    "collapsed": false,
    "ExecuteTime": {
     "end_time": "2024-02-25T11:55:41.414917Z",
     "start_time": "2024-02-25T11:55:41.409815Z"
    }
   },
   "id": "78f17507acb8c50c",
   "execution_count": 2
  },
  {
   "cell_type": "code",
   "outputs": [
    {
     "name": "stdout",
     "output_type": "stream",
     "text": [
      "Successful booking!\n"
     ]
    }
   ],
   "source": [
    "lab.book('PCR Machine', user1, \"2024-02-24 09:00\", \"2024-02-24 11:00\")"
   ],
   "metadata": {
    "collapsed": false,
    "ExecuteTime": {
     "end_time": "2024-02-25T11:55:41.416537Z",
     "start_time": "2024-02-25T11:55:41.412831Z"
    }
   },
   "id": "ec30dc33ca15d7cc",
   "execution_count": 3
  },
  {
   "cell_type": "code",
   "outputs": [
    {
     "ename": "ValueError",
     "evalue": "Illumina is not available in the lab.",
     "output_type": "error",
     "traceback": [
      "\u001B[0;31m---------------------------------------------------------------------------\u001B[0m",
      "\u001B[0;31mValueError\u001B[0m                                Traceback (most recent call last)",
      "Cell \u001B[0;32mIn[4], line 1\u001B[0m\n\u001B[0;32m----> 1\u001B[0m \u001B[43mlab\u001B[49m\u001B[38;5;241;43m.\u001B[39;49m\u001B[43mbook\u001B[49m\u001B[43m(\u001B[49m\u001B[38;5;124;43m'\u001B[39;49m\u001B[38;5;124;43mIllumina\u001B[39;49m\u001B[38;5;124;43m'\u001B[39;49m\u001B[43m,\u001B[49m\u001B[43m \u001B[49m\u001B[43muser1\u001B[49m\u001B[43m,\u001B[49m\u001B[43m \u001B[49m\u001B[38;5;124;43m\"\u001B[39;49m\u001B[38;5;124;43m2024-02-24 10:00\u001B[39;49m\u001B[38;5;124;43m\"\u001B[39;49m\u001B[43m,\u001B[49m\u001B[43m \u001B[49m\u001B[38;5;124;43m\"\u001B[39;49m\u001B[38;5;124;43m2024-02-24 12:00\u001B[39;49m\u001B[38;5;124;43m\"\u001B[39;49m\u001B[43m)\u001B[49m\n",
      "File \u001B[0;32m~/BI/oop/hw14-oop-sofiyaga57/HW14_OOP.py:39\u001B[0m, in \u001B[0;36mLabEquipment.book\u001B[0;34m(self, equipment_name, user, start_time, end_time)\u001B[0m\n\u001B[1;32m     37\u001B[0m \u001B[38;5;28;01mdef\u001B[39;00m \u001B[38;5;21mbook\u001B[39m(\u001B[38;5;28mself\u001B[39m, equipment_name: \u001B[38;5;28mstr\u001B[39m, user: \u001B[38;5;28mstr\u001B[39m, start_time, end_time):\n\u001B[1;32m     38\u001B[0m     \u001B[38;5;28;01mif\u001B[39;00m equipment_name \u001B[38;5;129;01mnot\u001B[39;00m \u001B[38;5;129;01min\u001B[39;00m \u001B[38;5;28mself\u001B[39m\u001B[38;5;241m.\u001B[39mequipment:\n\u001B[0;32m---> 39\u001B[0m         \u001B[38;5;28;01mraise\u001B[39;00m \u001B[38;5;167;01mValueError\u001B[39;00m(\u001B[38;5;124mf\u001B[39m\u001B[38;5;124m\"\u001B[39m\u001B[38;5;132;01m{\u001B[39;00mequipment_name\u001B[38;5;132;01m}\u001B[39;00m\u001B[38;5;124m is not available in the lab.\u001B[39m\u001B[38;5;124m\"\u001B[39m)\n\u001B[1;32m     41\u001B[0m     new_booking \u001B[38;5;241m=\u001B[39m Booking(equipment_name, user, start_time, end_time)\n\u001B[1;32m     42\u001B[0m     \u001B[38;5;28;01mif\u001B[39;00m \u001B[38;5;28mself\u001B[39m\u001B[38;5;241m.\u001B[39mis_available(equipment_name, user, start_time, end_time):\n",
      "\u001B[0;31mValueError\u001B[0m: Illumina is not available in the lab."
     ]
    }
   ],
   "source": [
    "lab.book('Illumina', user1, \"2024-02-24 10:00\", \"2024-02-24 12:00\")"
   ],
   "metadata": {
    "collapsed": false,
    "ExecuteTime": {
     "end_time": "2024-02-25T11:55:41.623046Z",
     "start_time": "2024-02-25T11:55:41.416453Z"
    }
   },
   "id": "6d22837d0edaa429",
   "execution_count": 4
  },
  {
   "cell_type": "code",
   "outputs": [
    {
     "name": "stdout",
     "output_type": "stream",
     "text": [
      "Successful booking!\n"
     ]
    }
   ],
   "source": [
    "lab.book('Centrifuge', user2, \"2024-02-24 10:00\", \"2024-02-24 12:00\")"
   ],
   "metadata": {
    "collapsed": false,
    "ExecuteTime": {
     "end_time": "2024-02-25T11:55:44.751993Z",
     "start_time": "2024-02-25T11:55:44.748497Z"
    }
   },
   "id": "ee7ffc3eb63ffa53",
   "execution_count": 5
  },
  {
   "cell_type": "code",
   "outputs": [
    {
     "ename": "ValueError",
     "evalue": "Booking not available",
     "output_type": "error",
     "traceback": [
      "\u001B[0;31m---------------------------------------------------------------------------\u001B[0m",
      "\u001B[0;31mValueError\u001B[0m                                Traceback (most recent call last)",
      "Cell \u001B[0;32mIn[6], line 1\u001B[0m\n\u001B[0;32m----> 1\u001B[0m \u001B[43mlab\u001B[49m\u001B[38;5;241;43m.\u001B[39;49m\u001B[43mbook\u001B[49m\u001B[43m(\u001B[49m\u001B[38;5;124;43m'\u001B[39;49m\u001B[38;5;124;43mCentrifuge\u001B[39;49m\u001B[38;5;124;43m'\u001B[39;49m\u001B[43m,\u001B[49m\u001B[43m \u001B[49m\u001B[43muser1\u001B[49m\u001B[43m,\u001B[49m\u001B[43m \u001B[49m\u001B[38;5;124;43m\"\u001B[39;49m\u001B[38;5;124;43m2024-02-24 11:00\u001B[39;49m\u001B[38;5;124;43m\"\u001B[39;49m\u001B[43m,\u001B[49m\u001B[43m \u001B[49m\u001B[38;5;124;43m\"\u001B[39;49m\u001B[38;5;124;43m2024-02-24 12:00\u001B[39;49m\u001B[38;5;124;43m\"\u001B[39;49m\u001B[43m)\u001B[49m\n",
      "File \u001B[0;32m~/BI/oop/hw14-oop-sofiyaga57/HW14_OOP.py:47\u001B[0m, in \u001B[0;36mLabEquipment.book\u001B[0;34m(self, equipment_name, user, start_time, end_time)\u001B[0m\n\u001B[1;32m     45\u001B[0m     \u001B[38;5;28mprint\u001B[39m(\u001B[38;5;124m\"\u001B[39m\u001B[38;5;124mSuccessful booking!\u001B[39m\u001B[38;5;124m\"\u001B[39m)\n\u001B[1;32m     46\u001B[0m \u001B[38;5;28;01melse\u001B[39;00m:\n\u001B[0;32m---> 47\u001B[0m     \u001B[38;5;28;01mraise\u001B[39;00m \u001B[38;5;167;01mValueError\u001B[39;00m(\u001B[38;5;124m\"\u001B[39m\u001B[38;5;124mBooking not available\u001B[39m\u001B[38;5;124m\"\u001B[39m)\n",
      "\u001B[0;31mValueError\u001B[0m: Booking not available"
     ]
    }
   ],
   "source": [
    "lab.book('Centrifuge', user1, \"2024-02-24 11:00\", \"2024-02-24 12:00\")"
   ],
   "metadata": {
    "collapsed": false,
    "ExecuteTime": {
     "end_time": "2024-02-25T11:55:45.336853Z",
     "start_time": "2024-02-25T11:55:45.310587Z"
    }
   },
   "id": "60ebd5a11f06c6a2",
   "execution_count": 6
  },
  {
   "cell_type": "markdown",
   "id": "d5713c0c-56ab-4828-b933-97e384969578",
   "metadata": {},
   "source": [
    "# 2. Интерпретатор генетического кода\n",
    "\n",
    "Здесь вы можете продемонстрировать как работает ваш интерпретатор генетического кода. Не забудьте в последнем примере подобрать такой набор нуклеотидов чтобы напечаталась ваша фамилия."
   ]
  },
  {
   "cell_type": "code",
   "execution_count": 7,
   "id": "e46decf5-9b47-45c8-a48e-d55c0cd69986",
   "metadata": {
    "ExecuteTime": {
     "end_time": "2024-02-25T11:55:48.662439Z",
     "start_time": "2024-02-25T11:55:48.646804Z"
    }
   },
   "outputs": [
    {
     "data": {
      "text/plain": "'\\x00'"
     },
     "execution_count": 7,
     "metadata": {},
     "output_type": "execute_result"
    }
   ],
   "source": [
    "interpreter = GenCodeInterpreter()\n",
    "interpreter.eval('ATGCN')"
   ]
  },
  {
   "cell_type": "code",
   "execution_count": 8,
   "id": "26989e46-af35-499b-a152-20f3f7f89734",
   "metadata": {
    "ExecuteTime": {
     "end_time": "2024-02-25T11:55:50.314528Z",
     "start_time": "2024-02-25T11:55:50.307987Z"
    }
   },
   "outputs": [
    {
     "data": {
      "text/plain": "'Hi!'"
     },
     "execution_count": 8,
     "metadata": {},
     "output_type": "execute_result"
    }
   ],
   "source": [
    "interpreter = GenCodeInterpreter()\n",
    "code = 'G'*72 + 'N' + 'G'*33 + 'N' + 'C'*72 + 'N'\n",
    "interpreter.eval(code)"
   ]
  },
  {
   "cell_type": "code",
   "execution_count": 9,
   "id": "ecf4280a-0fa3-46e8-88ba-519834a7f95d",
   "metadata": {
    "ExecuteTime": {
     "end_time": "2024-02-25T11:55:50.983605Z",
     "start_time": "2024-02-25T11:55:50.968159Z"
    }
   },
   "outputs": [
    {
     "data": {
      "text/plain": "'Виноградова'"
     },
     "execution_count": 9,
     "metadata": {},
     "output_type": "execute_result"
    }
   ],
   "source": [
    "interpreter = GenCodeInterpreter()\n",
    "code = ('G'*1042 + 'N' + 'G'*38 + 'N' + 'G'*5 + 'N' + 'G' + 'N' + 'C'*11 + \n",
    "        'N' + 'G'*13 + 'N' + 'C'*16 + 'N' + 'G'*4 + 'N' + 'G'*10 + 'N' + 'C'*12 + 'N' + 'C'*2 + 'N')\n",
    "interpreter.eval(code)"
   ]
  },
  {
   "cell_type": "markdown",
   "id": "4fc75494-33c3-48f5-b2b1-adeaeb2dee75",
   "metadata": {},
   "source": [
    "# 3. Meet the dunders\n",
    "\n",
    "Проверьте что функция не сломалась"
   ]
  },
  {
   "cell_type": "code",
   "execution_count": 10,
   "id": "a594a672-7138-4301-a4df-d50cc000b032",
   "metadata": {
    "ExecuteTime": {
     "end_time": "2024-02-25T11:55:53.247542Z",
     "start_time": "2024-02-25T11:55:53.242765Z"
    }
   },
   "outputs": [],
   "source": [
    "assert meet_the_dunders() == 42"
   ]
  },
  {
   "cell_type": "markdown",
   "id": "0b37b58a-dbc7-4dd8-a7aa-c2e0bb1d18ac",
   "metadata": {},
   "source": [
    "# 5. Biological sequences world\n",
    "\n",
    "Приведите пример:\n",
    "- 1 метод который работает с РНК\n",
    "- 1 метод который работает с белками\n",
    "- Какой тип данных возвращает метод `complement` который вызвали на последовательности ДНК"
   ]
  },
  {
   "cell_type": "markdown",
   "source": [
    "Тяжело... Написала только абстрактный класс и нуклеиновые кислоты и то не совсем кажется правильно:("
   ],
   "metadata": {
    "collapsed": false
   },
   "id": "d260f6ff5052231b"
  }
 ],
 "metadata": {
  "kernelspec": {
   "name": "python3",
   "language": "python",
   "display_name": "Python 3 (ipykernel)"
  },
  "language_info": {
   "codemirror_mode": {
    "name": "ipython",
    "version": 3
   },
   "file_extension": ".py",
   "mimetype": "text/x-python",
   "name": "python",
   "nbconvert_exporter": "python",
   "pygments_lexer": "ipython3",
   "version": "3.12.1"
  }
 },
 "nbformat": 4,
 "nbformat_minor": 5
}
